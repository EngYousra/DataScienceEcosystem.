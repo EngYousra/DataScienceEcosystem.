{
 "cells": [
  {
   "cell_type": "markdown",
   "id": "b7c626cc",
   "metadata": {},
   "source": [
    "# Data Science Tools and Ecosystem"
   ]
  },
  {
   "cell_type": "markdown",
   "id": "51469c5e",
   "metadata": {},
   "source": [
    "In this notebook, Data Science Tools and Ecosystem are summarized."
   ]
  },
  {
   "cell_type": "markdown",
   "id": "c2c8574b",
   "metadata": {},
   "source": [
    "___Objectives:___\n",
    "\n",
    "Some of the popular languages that Data Scientists \n",
    "\n",
    "Some of the commonly used libraries used by Data Scientists i\n"
   ]
  },
  {
   "cell_type": "markdown",
   "id": "6828abe3",
   "metadata": {},
   "source": [
    "___Some of the popular languages that Data Scientists use are:___\n",
    "\n",
    "Python ....\n",
    "R. ...\n",
    "Scala. ...\n",
    "Julia. ...\n",
    "JavaScript. ...\n",
    "\n",
    "Java. ...\n",
    "\n"
   ]
  },
  {
   "cell_type": "markdown",
   "id": "c2eb58b4",
   "metadata": {},
   "source": [
    "___Some of the commonly used libraries used by Data Scientists include:___\n",
    "\n",
    "\n",
    "Matplotlib.\n",
    "NumPy.\n",
    "Keras.\n",
    "Pandas.\n",
    "SciPy.\n",
    "Scikit-Learn.\n",
    "TensorFlow.\n",
    "\n"
   ]
  },
  {
   "cell_type": "markdown",
   "id": "d8437728",
   "metadata": {},
   "source": [
    "___Data Science Tools___\n",
    "\n",
    "\n",
    "Apache Spark\n",
    "\n",
    "Julia\n",
    "\n",
    "Jupyter Notebook\n",
    "\n",
    "\n"
   ]
  },
  {
   "cell_type": "markdown",
   "id": "ebdca985",
   "metadata": {},
   "source": [
    "### below are a few examples of evaluating arithmetic expressions in Python"
   ]
  },
  {
   "cell_type": "code",
   "execution_count": 4,
   "id": "86ef8554",
   "metadata": {
    "scrolled": true
   },
   "outputs": [
    {
     "data": {
      "text/plain": [
       "3"
      ]
     },
     "execution_count": 4,
     "metadata": {},
     "output_type": "execute_result"
    }
   ],
   "source": [
    "a=1+2\n",
    "a"
   ]
  },
  {
   "cell_type": "code",
   "execution_count": 5,
   "id": "ad329dce",
   "metadata": {},
   "outputs": [
    {
     "data": {
      "text/plain": [
       "17"
      ]
     },
     "execution_count": 5,
     "metadata": {},
     "output_type": "execute_result"
    }
   ],
   "source": [
    "# This a simple arithmetic expression to mutiply then add integers\n",
    "(3*4)+5"
   ]
  },
  {
   "cell_type": "code",
   "execution_count": 6,
   "id": "2fb993fe",
   "metadata": {},
   "outputs": [
    {
     "data": {
      "text/plain": [
       "3.3333333333333335"
      ]
     },
     "execution_count": 6,
     "metadata": {},
     "output_type": "execute_result"
    }
   ],
   "source": [
    "#This will convert 200 minutes to hours by diving by 60\n",
    "200/60"
   ]
  },
  {
   "cell_type": "markdown",
   "id": "28ef92fb",
   "metadata": {},
   "source": [
    "## Auther\n",
    "\n",
    "Yousra Ali El-Eraki\n"
   ]
  },
  {
   "cell_type": "code",
   "execution_count": null,
   "id": "5c0cd9ec",
   "metadata": {},
   "outputs": [],
   "source": []
  },
  {
   "cell_type": "code",
   "execution_count": null,
   "id": "18b81435",
   "metadata": {},
   "outputs": [],
   "source": []
  },
  {
   "cell_type": "code",
   "execution_count": null,
   "id": "b346352c",
   "metadata": {},
   "outputs": [],
   "source": []
  },
  {
   "cell_type": "code",
   "execution_count": null,
   "id": "6f2d05c1",
   "metadata": {},
   "outputs": [],
   "source": []
  },
  {
   "cell_type": "code",
   "execution_count": null,
   "id": "792765b6",
   "metadata": {},
   "outputs": [],
   "source": []
  }
 ],
 "metadata": {
  "kernelspec": {
   "display_name": "Python 3 (ipykernel)",
   "language": "python",
   "name": "python3"
  },
  "language_info": {
   "codemirror_mode": {
    "name": "ipython",
    "version": 3
   },
   "file_extension": ".py",
   "mimetype": "text/x-python",
   "name": "python",
   "nbconvert_exporter": "python",
   "pygments_lexer": "ipython3",
   "version": "3.10.9"
  }
 },
 "nbformat": 4,
 "nbformat_minor": 5
}
